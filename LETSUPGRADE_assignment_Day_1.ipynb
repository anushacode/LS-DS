{
  "nbformat": 4,
  "nbformat_minor": 0,
  "metadata": {
    "colab": {
      "name": "LETSUPGRADE assignment Day 1",
      "provenance": [],
      "collapsed_sections": []
    },
    "kernelspec": {
      "name": "python3",
      "display_name": "Python 3"
    }
  },
  "cells": [
    {
      "cell_type": "code",
      "metadata": {
        "id": "C5ZSlAHl7qtZ"
      },
      "source": [
        "#question1:\n",
        "guess correct word of OBANWRI\n",
        "A. RANIBOW\n",
        "B. RAINBOW\n",
        "C. BOWRANI\n",
        "D. ROBWANI\n",
        "\n",
        "B.RAINBOW"
      ],
      "execution_count": null,
      "outputs": []
    },
    {
      "cell_type": "code",
      "metadata": {
        "id": "bb-l0kma78cV",
        "outputId": "ccb33760-b6ad-4e7d-b7c6-aed07112f070",
        "colab": {
          "base_uri": "https://localhost:8080/"
        }
      },
      "source": [
        "#question2:Write a program which prints \"LETS UPGRADE\".\n",
        "\n",
        "str=\"lets upgrade\"\n",
        "print(str.upper())"
      ],
      "execution_count": null,
      "outputs": [
        {
          "output_type": "stream",
          "text": [
            "LETS UPGRADE\n"
          ],
          "name": "stdout"
        }
      ]
    },
    {
      "cell_type": "code",
      "metadata": {
        "id": "Xzh0NDjE8gP3"
      },
      "source": [
        "#question3:\n",
        "Cost_prize=int(input(\"\"))\n",
        "Sell_prize=int(input(\"\"))\n",
        "if(Cost_prize>Sell_prize):\n",
        "    print(\"Loss\")\n",
        "elif(Cost_prize<Sell_prize):\n",
        "    print(\"Profit\")\n",
        "else:\n",
        "    print(\"Neither\")"
      ],
      "execution_count": null,
      "outputs": []
    },
    {
      "cell_type": "code",
      "metadata": {
        "id": "aniRxnu59Fw_"
      },
      "source": [
        "#question4:\n",
        "euro=int(input(\"\"))\n",
        "indian=euro*80\n",
        "print(indian)"
      ],
      "execution_count": null,
      "outputs": []
    }
  ]
}