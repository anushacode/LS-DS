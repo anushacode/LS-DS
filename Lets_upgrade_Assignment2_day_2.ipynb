{
  "nbformat": 4,
  "nbformat_minor": 0,
  "metadata": {
    "colab": {
      "name": "Lets upgrade Assignment2 day 2.ipynb",
      "provenance": [],
      "collapsed_sections": []
    },
    "kernelspec": {
      "name": "python3",
      "display_name": "Python 3"
    },
    "accelerator": "GPU"
  },
  "cells": [
    {
      "cell_type": "code",
      "metadata": {
        "id": "l7mhDJI3RY6i"
      },
      "source": [
        "#Question 1: \n",
        "\n",
        "#Create an empty list. Accept 10 numbers from the user and append to it the list if it is an even number.\n",
        "\n",
        "list=[]\n",
        "for i in range(10):\n",
        "  x=int(input())2\n",
        "  if x%2==0:\n",
        "    li.append(x)\n",
        "print(list)\n",
        "  \n",
        "\n"
      ],
      "execution_count": null,
      "outputs": []
    },
    {
      "cell_type": "code",
      "metadata": {
        "id": "eal6CDNkS1F2",
        "outputId": "76c56376-7af8-4413-954b-ef0c5240d310",
        "colab": {
          "base_uri": "https://localhost:8080/"
        }
      },
      "source": [
        "#Question 2:\n",
        "#Create a notebook on LIST COMPREHENSION. This exercise is to put you in a Self learning mode\n",
        "\n",
        "a=[i for i in range(1,10+1) if i%2==0]\n",
        "print(a)"
      ],
      "execution_count": null,
      "outputs": [
        {
          "output_type": "stream",
          "text": [
            "[2, 4, 6, 8, 10]\n"
          ],
          "name": "stdout"
        }
      ]
    },
    {
      "cell_type": "code",
      "metadata": {
        "id": "c31smdw5Sbu8",
        "outputId": "30ab734f-2a9e-4668-ef11-de799d52bf88",
        "colab": {
          "base_uri": "https://localhost:8080/"
        }
      },
      "source": [
        "# Question 3:\n",
        "# You have seen in the videos how powerful dictionary data structure is. In this assignment, given a number n, you have to write a program that generates a dictionary d which contains (i, i*i), where i is from 1 to n (both included). Then you have to just print this dictionary d. Example: Input: 4 will give output as {1: 1, 2: 4, 3: 9, 4: 16} Input Format: Take the number n in a single line. Output Format: Print the dictionary d in a single line. Example: Input: 8 Output: {1: 1, 2: 4, 3: 9, 4: 16, 5: 25, 6: 36, 7: 49, 8: 64}\n",
        "\n",
        "b={}\n",
        "for i in range(1,int(input())+1):b[i]=i*i\n",
        "print(b)"
      ],
      "execution_count": null,
      "outputs": [
        {
          "output_type": "stream",
          "text": [
            "10\n",
            "{1: 1, 2: 4, 3: 9, 4: 16, 5: 25, 6: 36, 7: 49, 8: 64, 9: 81, 10: 100}\n"
          ],
          "name": "stdout"
        }
      ]
    },
    {
      "cell_type": "code",
      "metadata": {
        "id": "anTp6QDHUT0Y"
      },
      "source": [
        "#Question 4:There is a robot which wants to go the charging point to charge itself. The robot moves in a 2-D plane from the original point (0,0). The robot can move toward UP, DOWN, LEFT and RIGHT with given steps. The trace of robot movement is shown as the following: UP 5 DOWN 3 LEFT 3 RIGHT 2 Then, the output of the program should be: 2 The numbers after the direction are steps. Write a program to compute the distance between the current position after a sequence of movement and original point. If the distance is a float, then just print the nearest integer (use round() function for that and then convert it into an integer). Input Format: The first line of the input contains a number n which implies the number of directions to be given. The next n lines contain the direction and the step separated by a space. Output Format: Print the distance from the original position to the current position. Example: Input: 4 UP 5 DOWN 3 LEFT 3 RIGHT 2 Output: 2\n",
        "\n",
        "import math\n",
        "x=0\n",
        "y=0\n",
        "n=int(input())\n",
        "for i in range(n):\n",
        "    direction = input().split(' ')  \n",
        "    \n",
        "    if direction[0].upper() == \"UP\":\n",
        "        y += int(direction[1])\n",
        "    elif direction[0].upper() == \"RIGHT\":\n",
        "        x += int(direction[1])\n",
        "    elif direction[0].upper() == \"DOWN\":\n",
        "        y -= int(direction[1])\n",
        "    elif direction[0].upper() == \"LEFT\":\n",
        "        x -= int(direction[1])\n",
        "    else:\n",
        "        print(\"Invalid Input\")    \n",
        "pos = float((x**5+y**3)**0.1)\n",
        "print(round(pos))"
      ],
      "execution_count": null,
      "outputs": []
    }
  ]
}