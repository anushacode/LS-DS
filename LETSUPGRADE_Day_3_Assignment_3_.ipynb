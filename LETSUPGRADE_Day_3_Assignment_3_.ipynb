{
  "nbformat": 4,
  "nbformat_minor": 0,
  "metadata": {
    "colab": {
      "name": "LETSUPGRADE Day 3 Assignment 3 .ipynb",
      "provenance": [],
      "collapsed_sections": []
    },
    "kernelspec": {
      "name": "python3",
      "display_name": "Python 3"
    }
  },
  "cells": [
    {
      "cell_type": "code",
      "metadata": {
        "id": "3sSdPi_B9ukT",
        "outputId": "b5352cfe-389d-4d6a-bca4-d66191166f4b",
        "colab": {
          "base_uri": "https://localhost:8080/"
        }
      },
      "source": [
        "#question1: create a numpy array starting from 2 to till 50 with stepsize of 3.\n",
        "\n",
        "import numpy as np\n",
        "ar=np.arange(2,50,3)\n",
        "print(ar)"
      ],
      "execution_count": null,
      "outputs": [
        {
          "output_type": "stream",
          "text": [
            "[ 2  5  8 11 14 17 20 23 26 29 32 35 38 41 44 47]\n"
          ],
          "name": "stdout"
        }
      ]
    },
    {
      "cell_type": "code",
      "metadata": {
        "id": "yJahFtg_Fz8F"
      },
      "source": [
        "#question2:\n",
        "import numpy as nm\n",
        "list1,list2=[],[]\n",
        "print(\"list items\")\n",
        "for i in range(5):\n",
        "    t=int(input())\n",
        "    list1.append(t)\n",
        "print(\"list items\")\n",
        "for i in range(5):\n",
        "    t=int(input())\n",
        "    list2.append(t)\n",
        "arr=nm.array([list1,list2])\n",
        "print(arr)\n",
        "print()\n",
        "arr=arr.reshape(1,6)\n",
        "arr=nm.sort(arr)\n",
        "arr=arr.reshape(2,5)\n",
        "print(arr)\n"
      ],
      "execution_count": null,
      "outputs": []
    },
    {
      "cell_type": "code",
      "metadata": {
        "id": "FvO71Lr3GZt6",
        "outputId": "3a0e90dd-be20-435f-853f-fd13ee396093",
        "colab": {
          "base_uri": "https://localhost:8080/"
        }
      },
      "source": [
        "#question3:\n",
        "arr = np.array([[1,2,3],[1,3,5],[1,3,4]])\n",
        "print(arr.ndim)\n",
        "print(arr.size)\n",
        "\n"
      ],
      "execution_count": null,
      "outputs": [
        {
          "output_type": "stream",
          "text": [
            "2\n",
            "9\n"
          ],
          "name": "stdout"
        }
      ]
    },
    {
      "cell_type": "code",
      "metadata": {
        "id": "LlV3AwgGGwR4",
        "outputId": "20c52678-9f55-4d94-ef81-8e0d1aee6e6a",
        "colab": {
          "base_uri": "https://localhost:8080/"
        }
      },
      "source": [
        "#question 4:\n",
        "arr=np.random.rand(5,)\n",
        "print(arr.ndim)\n",
        "nw_arr = arr[np.newaxis, :]\n",
        "print(nw_arr.ndim)\n"
      ],
      "execution_count": null,
      "outputs": [
        {
          "output_type": "stream",
          "text": [
            "1\n",
            "2\n"
          ],
          "name": "stdout"
        }
      ]
    },
    {
      "cell_type": "code",
      "metadata": {
        "id": "xFPwQ9qpG5GW",
        "outputId": "cb3aa7a7-774c-4e71-b4e2-73ab4fd1ef96",
        "colab": {
          "base_uri": "https://localhost:8080/"
        }
      },
      "source": [
        "#question 5:\n",
        "import numpy as np\n",
        "a = np.array([[5, 2], \n",
        "              [7, 4]]) \n",
        "  \n",
        "b = np.array([[8, 6], \n",
        "              [3, 8]]) \n",
        "print(\"Vertical stacking:\\n\", np.vstack((a, b))) \n",
        "print(\"\\nHorizontal stacking:\\n\", np.hstack((a, b)))"
      ],
      "execution_count": null,
      "outputs": [
        {
          "output_type": "stream",
          "text": [
            "Vertical stacking:\n",
            " [[5 2]\n",
            " [7 4]\n",
            " [8 6]\n",
            " [3 8]]\n",
            "\n",
            "Horizontal stacking:\n",
            " [[5 2 8 6]\n",
            " [7 4 3 8]]\n"
          ],
          "name": "stdout"
        }
      ]
    },
    {
      "cell_type": "code",
      "metadata": {
        "id": "l0FDbNYHHDXw",
        "outputId": "418fe69b-988c-4d1d-9bcc-9629e6072364",
        "colab": {
          "base_uri": "https://localhost:8080/"
        }
      },
      "source": [
        "#question 6:\n",
        "arr = np.array([1,9,3,1,5,2,5,6,4,3,9,7,6,8,9,2,6,7,8])\n",
        "print(np.unique(arr,return_counts=True))"
      ],
      "execution_count": null,
      "outputs": [
        {
          "output_type": "stream",
          "text": [
            "(array([1, 2, 3, 4, 5, 6, 7, 8, 9]), array([2, 2, 2, 1, 2, 3, 2, 2, 3]))\n"
          ],
          "name": "stdout"
        }
      ]
    }
  ]
}